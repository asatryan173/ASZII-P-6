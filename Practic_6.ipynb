{
  "nbformat": 4,
  "nbformat_minor": 0,
  "metadata": {
    "colab": {
      "provenance": []
    },
    "kernelspec": {
      "name": "python3",
      "display_name": "Python 3"
    },
    "language_info": {
      "name": "python"
    }
  },
  "cells": [
    {
      "cell_type": "markdown",
      "source": [
        "# Практика 6: Атака по переносу (Transfer Attack) на модели ИИ\n",
        "\n",
        "Выполнил: Асатрян Давид Робертович ББМО-01-23\n",
        "\n",
        "# Цель:\n",
        "Изучить концепцию атаки по переносу, где противоречивые примеры, созданные для одной модели, используются для атаки на другую модель. Это задание требует создания нескольких моделей, генерации противоречивых примеров для одной модели и проверки их на другой модели.\n",
        "\n",
        "# Задачи:\n",
        "Загрузить несколько моделей, обученных на датасете MNIST.\n",
        "Изучить теоретические основы атаки по переносу.\n",
        "Реализовать атаку FGSM на одну модель и проверить, как противоречивые примеры влияют на другую модель.\n",
        "Оценить точность обеих моделей на противоречивых примерах и проанализировать переносимость атак."
      ],
      "metadata": {
        "id": "YEWNPHO8A9lI"
      }
    },
    {
      "cell_type": "markdown",
      "source": [
        "Шаг 1: Загруска библиотек"
      ],
      "metadata": {
        "id": "GMYwDzg8g9hF"
      }
    },
    {
      "cell_type": "code",
      "source": [
        "import tensorflow as tf\n",
        "from tensorflow.keras.datasets import mnist\n",
        "from tensorflow.keras.models import Sequential, load_model\n",
        "from tensorflow.keras.layers import Dense, Flatten, Conv2D, MaxPooling2D\n",
        "from tensorflow.keras.utils import to_categorical\n",
        "import numpy as np"
      ],
      "metadata": {
        "id": "TRWfUWhShCbl"
      },
      "execution_count": 1,
      "outputs": []
    },
    {
      "cell_type": "markdown",
      "source": [
        "Шаг 2: Загрузка данных и создание моделей"
      ],
      "metadata": {
        "id": "STqzIVp9C0Cv"
      }
    },
    {
      "cell_type": "code",
      "execution_count": 2,
      "metadata": {
        "colab": {
          "base_uri": "https://localhost:8080/"
        },
        "id": "-9wSIRpaA6y0",
        "outputId": "87caddd4-4328-4082-ca43-3e93e86067dc"
      },
      "outputs": [
        {
          "output_type": "stream",
          "name": "stdout",
          "text": [
            "Downloading data from https://storage.googleapis.com/tensorflow/tf-keras-datasets/mnist.npz\n",
            "\u001b[1m11490434/11490434\u001b[0m \u001b[32m━━━━━━━━━━━━━━━━━━━━\u001b[0m\u001b[37m\u001b[0m \u001b[1m0s\u001b[0m 0us/step\n"
          ]
        },
        {
          "output_type": "stream",
          "name": "stderr",
          "text": [
            "/usr/local/lib/python3.10/dist-packages/keras/src/layers/reshaping/flatten.py:37: UserWarning: Do not pass an `input_shape`/`input_dim` argument to a layer. When using Sequential models, prefer using an `Input(shape)` object as the first layer in the model instead.\n",
            "  super().__init__(**kwargs)\n"
          ]
        },
        {
          "output_type": "stream",
          "name": "stdout",
          "text": [
            "Epoch 1/2\n",
            "\u001b[1m1875/1875\u001b[0m \u001b[32m━━━━━━━━━━━━━━━━━━━━\u001b[0m\u001b[37m\u001b[0m \u001b[1m11s\u001b[0m 5ms/step - accuracy: 0.8804 - loss: 0.4297\n",
            "Epoch 2/2\n",
            "\u001b[1m1875/1875\u001b[0m \u001b[32m━━━━━━━━━━━━━━━━━━━━\u001b[0m\u001b[37m\u001b[0m \u001b[1m8s\u001b[0m 4ms/step - accuracy: 0.9633 - loss: 0.1277\n"
          ]
        },
        {
          "output_type": "stream",
          "name": "stderr",
          "text": [
            "WARNING:absl:You are saving your model as an HDF5 file via `model.save()` or `keras.saving.save_model(model)`. This file format is considered legacy. We recommend using instead the native Keras format, e.g. `model.save('my_model.keras')` or `keras.saving.save_model(model, 'my_model.keras')`. \n",
            "/usr/local/lib/python3.10/dist-packages/keras/src/layers/convolutional/base_conv.py:107: UserWarning: Do not pass an `input_shape`/`input_dim` argument to a layer. When using Sequential models, prefer using an `Input(shape)` object as the first layer in the model instead.\n",
            "  super().__init__(activity_regularizer=activity_regularizer, **kwargs)\n"
          ]
        },
        {
          "output_type": "stream",
          "name": "stdout",
          "text": [
            "Epoch 1/2\n",
            "\u001b[1m1875/1875\u001b[0m \u001b[32m━━━━━━━━━━━━━━━━━━━━\u001b[0m\u001b[37m\u001b[0m \u001b[1m39s\u001b[0m 20ms/step - accuracy: 0.9053 - loss: 0.3177\n",
            "Epoch 2/2\n",
            "\u001b[1m1875/1875\u001b[0m \u001b[32m━━━━━━━━━━━━━━━━━━━━\u001b[0m\u001b[37m\u001b[0m \u001b[1m42s\u001b[0m 21ms/step - accuracy: 0.9848 - loss: 0.0513\n"
          ]
        },
        {
          "output_type": "stream",
          "name": "stderr",
          "text": [
            "WARNING:absl:You are saving your model as an HDF5 file via `model.save()` or `keras.saving.save_model(model)`. This file format is considered legacy. We recommend using instead the native Keras format, e.g. `model.save('my_model.keras')` or `keras.saving.save_model(model, 'my_model.keras')`. \n"
          ]
        }
      ],
      "source": [
        "# Этап 1: Загрузка данных и создание моделей\n",
        "# Загрузка набора данных MNIST\n",
        "(train_images, train_labels), (test_images, test_labels) = mnist.load_data()\n",
        "\n",
        "# Нормализация изображений\n",
        "train_images = train_images.astype('float32') / 255.0\n",
        "test_images = test_images.astype('float32') / 255.0\n",
        "\n",
        "# Преобразование меток в формат one-hot encoding\n",
        "train_labels = to_categorical(train_labels)\n",
        "test_labels = to_categorical(test_labels)\n",
        "\n",
        "# Модель 1: Простая полносвязная нейронная сеть\n",
        "model1 = Sequential([\n",
        "    Flatten(input_shape=(28, 28)),\n",
        "    Dense(128, activation='relu'),\n",
        "    Dense(10, activation='softmax')\n",
        "])\n",
        "\n",
        "model1.compile(optimizer='adam', loss='categorical_crossentropy', metrics=['accuracy'])\n",
        "model1.fit(train_images, train_labels, epochs=2)\n",
        "model1.save('mnist_model1.h5')\n",
        "\n",
        "# Модель 2: Свёрточная нейронная сеть (CNN)\n",
        "model2 = Sequential([\n",
        "    Conv2D(32, (3, 3), activation='relu', input_shape=(28, 28, 1)),\n",
        "    MaxPooling2D(pool_size=(2, 2)),\n",
        "    Flatten(),\n",
        "    Dense(128, activation='relu'),\n",
        "    Dense(10, activation='softmax')\n",
        "])\n",
        "\n",
        "model2.compile(optimizer='adam', loss='categorical_crossentropy', metrics=['accuracy'])\n",
        "model2.fit(train_images.reshape(-1, 28, 28, 1), train_labels, epochs=2)\n",
        "model2.save('mnist_model2.h5')"
      ]
    },
    {
      "cell_type": "markdown",
      "source": [
        "Шаг 3: Реализация атаки FGSM"
      ],
      "metadata": {
        "id": "FqFZOHfPCwdn"
      }
    },
    {
      "cell_type": "code",
      "source": [
        "# Функция для FGSM атаки\n",
        "def fgsm_attack(image, epsilon, gradient):\n",
        "    perturbed_image = image + epsilon * np.sign(gradient)\n",
        "    perturbed_image = np.clip(perturbed_image, 0, 1)  # Ограничение значений в диапазоне [0, 1]\n",
        "    return perturbed_image\n",
        "\n",
        "# Генерация противоречивых примеров\n",
        "def generate_fgsm_adversarial(model, images, labels, epsilon):\n",
        "    adversarial_images = []\n",
        "    for i in range(len(images)):\n",
        "        image = tf.convert_to_tensor(images[i].reshape(1, 28, 28, 1), dtype=tf.float32)\n",
        "        label = tf.convert_to_tensor(labels[i].reshape(1, -1), dtype=tf.float32)\n",
        "\n",
        "        # Вычисление градиента\n",
        "        with tf.GradientTape() as tape:\n",
        "            tape.watch(image)\n",
        "            prediction = model(image)\n",
        "            loss = tf.keras.losses.categorical_crossentropy(label, prediction)\n",
        "\n",
        "        gradient = tape.gradient(loss, image)\n",
        "        adv_image = fgsm_attack(image.numpy(), epsilon, gradient.numpy())\n",
        "        adversarial_images.append(adv_image.reshape(28, 28))\n",
        "\n",
        "    return np.array(adversarial_images)\n",
        "\n",
        "# Создание противоречивых примеров для первой модели\n",
        "epsilon = 0.1\n",
        "adversarial_images_model1 = generate_fgsm_adversarial(model1, test_images, test_labels, epsilon)\n"
      ],
      "metadata": {
        "id": "mEzHnHAlCcxf"
      },
      "execution_count": 3,
      "outputs": []
    },
    {
      "cell_type": "markdown",
      "source": [
        "Шаг 4: Оценка результатов"
      ],
      "metadata": {
        "id": "DJBBzRxYCtG_"
      }
    },
    {
      "cell_type": "code",
      "source": [
        "# Оценка первой модели на противоречивых примерах\n",
        "loss1, acc1 = model1.evaluate(adversarial_images_model1, test_labels, verbose=0)\n",
        "print(f'Точность первой модели на противоречивых примерах: {acc1:.4f}')\n",
        "\n",
        "# Оценка второй модели на противоречивых примерах первой модели\n",
        "adversarial_images_model1_reshaped = adversarial_images_model1.reshape(-1, 28, 28, 1)\n",
        "loss2, acc2 = model2.evaluate(adversarial_images_model1_reshaped, test_labels, verbose=0)\n",
        "print(f'Точность второй модели на противоречивых примерах от первой модели: {acc2:.4f}')\n"
      ],
      "metadata": {
        "colab": {
          "base_uri": "https://localhost:8080/"
        },
        "id": "wRecne4QCl7v",
        "outputId": "3294264c-af5a-451c-de7a-2a7f5ebc0835"
      },
      "execution_count": 4,
      "outputs": [
        {
          "output_type": "stream",
          "name": "stdout",
          "text": [
            "Точность первой модели на противоречивых примерах: 0.1566\n",
            "Точность второй модели на противоречивых примерах от первой модели: 0.9564\n"
          ]
        }
      ]
    },
    {
      "cell_type": "markdown",
      "source": [
        "Шаг 5: Дополнительное задание"
      ],
      "metadata": {
        "id": "EW5AjqseCpDX"
      }
    },
    {
      "cell_type": "code",
      "source": [
        "# Генерация противоречивых примеров для второй модели\n",
        "adversarial_images_model2 = generate_fgsm_adversarial(model2, test_images.reshape(-1, 28, 28, 1), test_labels, epsilon)\n",
        "\n",
        "# Оценка первой модели на противоречивых примерах, созданных второй моделью\n",
        "loss3, acc3 = model1.evaluate(adversarial_images_model2.reshape(-1, 28, 28), test_labels, verbose=0)\n",
        "print(f'Точность первой модели на противоречивых примерах от второй модели: {acc3:.4f}')\n",
        "\n",
        "# Оценка второй модели на собственных противоречивых примерах\n",
        "adversarial_images_model2 = adversarial_images_model2.reshape(-1, 28, 28, 1)\n",
        "adversarial_images_model2 = adversarial_images_model2.astype('float32')\n",
        "\n",
        "loss4, acc4 = model2.evaluate(adversarial_images_model2, test_labels, verbose=0)\n",
        "print(f'Точность второй модели на собственных противоречивых примерах: {acc4:.4f}')\n"
      ],
      "metadata": {
        "colab": {
          "base_uri": "https://localhost:8080/"
        },
        "id": "EECQyPdYCn_3",
        "outputId": "3564be25-3000-4b5b-8d87-e8d11b88c3d6"
      },
      "execution_count": 5,
      "outputs": [
        {
          "output_type": "stream",
          "name": "stdout",
          "text": [
            "Точность первой модели на противоречивых примерах от второй модели: 0.9298\n",
            "Точность второй модели на собственных противоречивых примерах: 0.6366\n"
          ]
        }
      ]
    },
    {
      "cell_type": "markdown",
      "source": [
        "# Вывод\n",
        "Результаты оценки точности моделей на противоречивых примерах предоставляют важную информацию о их устойчивости к атакам.\n",
        "\n",
        "1.Точность первой модели на противоречивых примерах: 0.1566. Этот низкий показатель указывает на высокую уязвимость модели к атакам, что подтверждает эффективность FGSM атаки на неё. Первая модель не смогла правильно классифицировать противоречивые примеры, что свидетельствует о её слабой защите.\n",
        "\n",
        "2.Точность второй модели на противоречивых примерах от первой модели: 0.9564. Этот высокий уровень точности показывает, что вторая модель оказалась достаточно устойчивой к противоречивым примерам, созданным для первой модели. Это может указывать на то, что вторая модель обладает лучшими характеристиками обобщения и способна справляться с некоторыми атаками, которые не были предусмотрены при её обучении.\n",
        "\n",
        "3.Точность первой модели на противоречивых примерах от второй модели: 0.9298. Этот результат демонстрирует, что первая модель также проявила значительную устойчивость к противоречивым примерам, созданным для второй модели. Это подтверждает концепцию переносимости атак, где противоречивые примеры могут быть успешно использованы для атаки на другую модель.\n",
        "\n",
        "4.Точность второй модели на собственных противоречивых примерах: 0.6366. Хотя вторая модель показала более высокую устойчивость к атакам по сравнению с первой моделью, её точность на собственных противоречивых примерах всё же ниже ожидаемого уровня. Это свидетельствует о том, что даже более сложные модели могут быть уязвимы к определённым типам атак.\n",
        "\n",
        "# Общий вывод\n",
        "Данные результаты подчеркивают важность разработки более защищённых моделей машинного обучения и необходимость дальнейшего изучения механизмов атак по переносу. Эффективность FGSM атак и их влияние на разные архитектуры моделей указывают на необходимость внедрения методов защиты и повышения устойчивости к подобным угрозам в будущем."
      ],
      "metadata": {
        "id": "3ME0EKN7Gi6_"
      }
    }
  ]
}